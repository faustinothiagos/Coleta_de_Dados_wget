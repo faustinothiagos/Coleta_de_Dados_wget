{
 "cells": [
  {
   "attachments": {},
   "cell_type": "markdown",
   "metadata": {},
   "source": [
    "# Automação Web scraping com a função wget\n",
    "\n",
    "#### Python + Selenium\n",
    "\n",
    "- 2 requisitos necessários:\n",
    "    - Instalar o Selenium\n",
    "    - Webdriver Manager"
   ]
  },
  {
   "cell_type": "code",
   "execution_count": 1,
   "metadata": {},
   "outputs": [
    {
     "name": "stdout",
     "output_type": "stream",
     "text": [
      "--2023-04-18 21:13:42--  https://transparencia.al.gov.br/media/arquivo/folha_ativo-2023.zip\n",
      "Resolvendo transparencia.al.gov.br (transparencia.al.gov.br)... 186.249.51.25\n",
      "Conectando-se a transparencia.al.gov.br (transparencia.al.gov.br)|186.249.51.25|:443... conectado.\n",
      "A requisição HTTP foi enviada, aguardando resposta... 200 OK\n",
      "Tamanho: 3910616 (3,7M) [application/zip]\n",
      "Salvando em: ‘transparencia.al.gov.br/media/arquivo/folha_ativo-2023.zip’\n",
      "\n",
      "transparencia.al.go 100%[===================>]   3,73M  10,9MB/s    em 0,3s    \n",
      "\n",
      "2023-04-18 21:13:42 (10,9 MB/s) - ‘transparencia.al.gov.br/media/arquivo/folha_ativo-2023.zip’ salvo [3910616/3910616]\n",
      "\n",
      "FINALIZADO --2023-04-18 21:13:42--\n",
      "Tempo total decorrido: 0,4s\n",
      "Baixados: 1 arquivos, 3,7M em 0,3s (10,9 MB/s)\n"
     ]
    }
   ],
   "source": [
    "!wget -p https://transparencia.al.gov.br/media/arquivo/folha_ativo-2023.zip"
   ]
  }
 ],
 "metadata": {
  "kernelspec": {
   "display_name": "Python 3",
   "language": "python",
   "name": "python3"
  },
  "language_info": {
   "codemirror_mode": {
    "name": "ipython",
    "version": 3
   },
   "file_extension": ".py",
   "mimetype": "text/x-python",
   "name": "python",
   "nbconvert_exporter": "python",
   "pygments_lexer": "ipython3",
   "version": "3.10.6"
  },
  "orig_nbformat": 4
 },
 "nbformat": 4,
 "nbformat_minor": 2
}
